{
 "cells": [
  {
   "cell_type": "code",
   "execution_count": 2,
   "metadata": {},
   "outputs": [
    {
     "name": "stdout",
     "output_type": "stream",
     "text": [
      "Requirement already satisfied: cpmpy in /home/esya/Git/portfolio/wemaintain/.venv/lib/python3.8/site-packages (0.9.10)\n",
      "Requirement already satisfied: ortools>=5.0 in /home/esya/Git/portfolio/wemaintain/.venv/lib/python3.8/site-packages (from cpmpy) (9.5.2237)\n",
      "Requirement already satisfied: numpy>=1.5 in /home/esya/Git/portfolio/wemaintain/.venv/lib/python3.8/site-packages (from cpmpy) (1.23.5)\n",
      "Requirement already satisfied: absl-py>=0.13 in /home/esya/Git/portfolio/wemaintain/.venv/lib/python3.8/site-packages (from ortools>=5.0->cpmpy) (1.3.0)\n",
      "Requirement already satisfied: protobuf>=4.21.5 in /home/esya/Git/portfolio/wemaintain/.venv/lib/python3.8/site-packages (from ortools>=5.0->cpmpy) (4.21.11)\n",
      "Note: you may need to restart the kernel to use updated packages.\n"
     ]
    }
   ],
   "source": [
    "%pip install cpmpy"
   ]
  },
  {
   "cell_type": "code",
   "execution_count": 3,
   "metadata": {},
   "outputs": [
    {
     "name": "stdout",
     "output_type": "stream",
     "text": [
      "[[7 4 6 2 3 5 9 1 8]\n",
      " [1 9 5 8 6 4 7 3 2]\n",
      " [3 2 8 7 1 9 5 6 4]\n",
      " [2 3 1 5 8 6 4 7 9]\n",
      " [8 5 4 9 7 1 6 2 3]\n",
      " [6 7 9 3 4 2 8 5 1]\n",
      " [5 8 7 4 2 3 1 9 6]\n",
      " [4 6 3 1 9 7 2 8 5]\n",
      " [9 1 2 6 5 8 3 4 7]]\n"
     ]
    }
   ],
   "source": [
    "import numpy as np\n",
    "from cpmpy import *\n",
    "\n",
    "e = 0 # value for empty cells\n",
    "given = np.array([\n",
    "    [e, e, e,  2, e, 5,  e, e, e],\n",
    "    [e, 9, e,  e, e, e,  7, 3, e],\n",
    "    [e, e, e,  e, e, 9,  e, 6, e],\n",
    "\n",
    "    [2, e, e,  e, e, e,  4, e, 9],\n",
    "    [e, e, e,  e, 7, e,  e, e, e],\n",
    "    [6, e, 9,  e, e, e,  e, e, 1],\n",
    "\n",
    "    [e, 8, e,  4, e, e,  1, e, e],\n",
    "    [e, 6, 3,  e, e, e,  e, 8, e],\n",
    "    [e, e, e,  6, e, 8,  e, e, e]])\n",
    "\n",
    "puzzle = intvar(1, 9, shape=given.shape, name=\"puzzle\")\n",
    "\n",
    "# we create a model with the row/column constraints\n",
    "model = Model(\n",
    "    # Constraints on rows and columns\n",
    "    [AllDifferent(row) for row in puzzle],\n",
    "    [AllDifferent(col) for col in puzzle.T], # numpy's Transpose\n",
    ")\n",
    "\n",
    "# we extend it with the block constraints\n",
    "# Constraints on blocks\n",
    "for i in range(0,9, 3):\n",
    "    for j in range(0,9, 3):\n",
    "        model += AllDifferent(puzzle[i:i+3, j:j+3]) # python's indexing\n",
    "\n",
    "# Constraints on values (cells that are not empty)\n",
    "model += (puzzle[given!=e] == given[given!=e]) # numpy's indexing\n",
    "\n",
    "if model.solve():\n",
    "    print(puzzle.value())\n",
    "else:\n",
    "    print(\"No solution found\")\n",
    "\n"
   ]
  },
  {
   "attachments": {},
   "cell_type": "markdown",
   "metadata": {},
   "source": [
    "# Ideas\n",
    "\n",
    "- We have `D` devices, belonging to `B` buildings, and `E` engineers\n",
    "- Each building and engineer has a location. \n",
    "- We compute a global distance matrix where the first `E` rows and columns are related to the `E` engineers \n",
    "- Therefore, the shape of the distance matrix is `E+D,E+D`"
   ]
  },
  {
   "cell_type": "code",
   "execution_count": 20,
   "metadata": {},
   "outputs": [
    {
     "name": "stdout",
     "output_type": "stream",
     "text": [
      "True ExitStatus.OPTIMAL (0.0043592100000000005 seconds)\n",
      "[[1 0 1 0 0 0]\n",
      " [0 0 0 1 1 0]\n",
      " [0 1 0 0 0 1]]\n"
     ]
    }
   ],
   "source": [
    "num_devices = 6\n",
    "num_engineers = 3\n",
    "distance_matrix = np.array([\n",
    "        [0, 100, 100, 100, 100, 100],\n",
    "        [100, 0, 100, 100, 100, 100],\n",
    "        [100, 100, 0, 100, 100, 100],\n",
    "        [100, 100, 100, 0, 100, 100],\n",
    "        [100, 100, 100, 100, 0, 100],\n",
    "        [100, 100, 100, 100, 100, 0]\n",
    "])\n",
    "\n",
    "ideal_target = int(num_devices/num_engineers)\n",
    "\n",
    "# Set to True if the engineer is assigned to the device\n",
    "assignments = intvar(0, 1, name=\"assignments\", shape=(num_engineers, num_devices))\n",
    "\n",
    "model = Model()\n",
    "\n",
    "# Add a constraint so that each device is assigned to exactly one engineer\n",
    "model += [sum(assignments[:, i]) == 1 for i in range(num_devices)]\n",
    "\n",
    "# Add a constraint so that engineers have the same number of devices\n",
    "# model += [sum(assignments[j, :]) == int(num_devices/num_engineers) for j in range(num_engineers)]\n",
    "\n",
    "# Minimize the standard deviation of number of devices per engineer\n",
    "model.minimize(sum(\n",
    "        [abs(ideal_target - sum(assignments[i, :])) for i in range(num_engineers)]\n",
    "))\n",
    "\n",
    "\n",
    "print(model.solve(), model.status())\n",
    "print(assignments.value())"
   ]
  },
  {
   "cell_type": "code",
   "execution_count": 17,
   "metadata": {},
   "outputs": [
    {
     "data": {
      "text/plain": [
       "array([2, 2, 2, 2, 2, 2])"
      ]
     },
     "execution_count": 17,
     "metadata": {},
     "output_type": "execute_result"
    }
   ],
   "source": [
    "ideal_target - assignments[0, :].value()"
   ]
  },
  {
   "cell_type": "code",
   "execution_count": null,
   "metadata": {},
   "outputs": [
    {
     "data": {
      "text/plain": [
       "2"
      ]
     },
     "execution_count": 7,
     "metadata": {},
     "output_type": "execute_result"
    }
   ],
   "source": [
    "# results = assignments.value()\n",
    "# sum(abs(ideal_target - results.sum(axis=1)))\n",
    "test=[[0, 0, 1, 1, 1, 0], [1, 0, 0, 0, 0, 1], [0, 1, 0, 0, 0, 0]]\n",
    "np.sum(np.abs(ideal_target -  np.sum(test, axis=1)))"
   ]
  }
 ],
 "metadata": {
  "kernelspec": {
   "display_name": ".venv",
   "language": "python",
   "name": "python3"
  },
  "language_info": {
   "codemirror_mode": {
    "name": "ipython",
    "version": 3
   },
   "file_extension": ".py",
   "mimetype": "text/x-python",
   "name": "python",
   "nbconvert_exporter": "python",
   "pygments_lexer": "ipython3",
   "version": "3.8.5"
  },
  "orig_nbformat": 4,
  "vscode": {
   "interpreter": {
    "hash": "3c50dff50d1791d42c4bd3aced91ca7399364b47c9dd0cd40dcdaf05bc8746a7"
   }
  }
 },
 "nbformat": 4,
 "nbformat_minor": 2
}
