{
 "cells": [
  {
   "cell_type": "code",
   "execution_count": 3,
   "metadata": {},
   "outputs": [
    {
     "name": "stderr",
     "output_type": "stream",
     "text": [
      "70.86s - pydevd: Sending message related to process being replaced timed-out after 5 seconds\n"
     ]
    },
    {
     "name": "stdout",
     "output_type": "stream",
     "text": [
      "Requirement already satisfied: cpmpy in /home/esya/Git/portfolio/wemaintain/.venv/lib/python3.8/site-packages (0.9.10)\n",
      "Requirement already satisfied: ortools>=5.0 in /home/esya/Git/portfolio/wemaintain/.venv/lib/python3.8/site-packages (from cpmpy) (9.5.2237)\n",
      "Requirement already satisfied: numpy>=1.5 in /home/esya/Git/portfolio/wemaintain/.venv/lib/python3.8/site-packages (from cpmpy) (1.23.5)\n",
      "Requirement already satisfied: protobuf>=4.21.5 in /home/esya/Git/portfolio/wemaintain/.venv/lib/python3.8/site-packages (from ortools>=5.0->cpmpy) (4.21.11)\n",
      "Requirement already satisfied: absl-py>=0.13 in /home/esya/Git/portfolio/wemaintain/.venv/lib/python3.8/site-packages (from ortools>=5.0->cpmpy) (1.3.0)\n",
      "Note: you may need to restart the kernel to use updated packages.\n"
     ]
    }
   ],
   "source": [
    "%pip install cpmpy"
   ]
  },
  {
   "cell_type": "code",
   "execution_count": 4,
   "metadata": {},
   "outputs": [
    {
     "name": "stdout",
     "output_type": "stream",
     "text": [
      "[[7 4 6 2 3 5 9 1 8]\n",
      " [1 9 5 8 6 4 7 3 2]\n",
      " [3 2 8 7 1 9 5 6 4]\n",
      " [2 3 1 5 8 6 4 7 9]\n",
      " [8 5 4 9 7 1 6 2 3]\n",
      " [6 7 9 3 4 2 8 5 1]\n",
      " [5 8 7 4 2 3 1 9 6]\n",
      " [4 6 3 1 9 7 2 8 5]\n",
      " [9 1 2 6 5 8 3 4 7]]\n"
     ]
    }
   ],
   "source": [
    "import numpy as np\n",
    "from cpmpy import *\n",
    "\n",
    "e = 0 # value for empty cells\n",
    "given = np.array([\n",
    "    [e, e, e,  2, e, 5,  e, e, e],\n",
    "    [e, 9, e,  e, e, e,  7, 3, e],\n",
    "    [e, e, e,  e, e, 9,  e, 6, e],\n",
    "\n",
    "    [2, e, e,  e, e, e,  4, e, 9],\n",
    "    [e, e, e,  e, 7, e,  e, e, e],\n",
    "    [6, e, 9,  e, e, e,  e, e, 1],\n",
    "\n",
    "    [e, 8, e,  4, e, e,  1, e, e],\n",
    "    [e, 6, 3,  e, e, e,  e, 8, e],\n",
    "    [e, e, e,  6, e, 8,  e, e, e]])\n",
    "\n",
    "puzzle = intvar(1, 9, shape=given.shape, name=\"puzzle\")\n",
    "\n",
    "# we create a model with the row/column constraints\n",
    "model = Model(\n",
    "    # Constraints on rows and columns\n",
    "    [AllDifferent(row) for row in puzzle],\n",
    "    [AllDifferent(col) for col in puzzle.T], # numpy's Transpose\n",
    ")\n",
    "\n",
    "# we extend it with the block constraints\n",
    "# Constraints on blocks\n",
    "for i in range(0,9, 3):\n",
    "    for j in range(0,9, 3):\n",
    "        model += AllDifferent(puzzle[i:i+3, j:j+3]) # python's indexing\n",
    "\n",
    "# Constraints on values (cells that are not empty)\n",
    "model += (puzzle[given!=e] == given[given!=e]) # numpy's indexing\n",
    "\n",
    "if model.solve():\n",
    "    print(puzzle.value())\n",
    "else:\n",
    "    print(\"No solution found\")\n",
    "\n"
   ]
  },
  {
   "attachments": {},
   "cell_type": "markdown",
   "metadata": {},
   "source": [
    "# Ideas\n",
    "\n",
    "- We have `D` devices, belonging to `B` buildings, and `E` engineers\n",
    "- Each building and engineer has a location. \n",
    "- We compute a global distance matrix where the first `E` rows and columns are related to the `E` engineers \n",
    "- Therefore, the shape of the distance matrix is `E+D,E+D`"
   ]
  },
  {
   "cell_type": "code",
   "execution_count": 35,
   "metadata": {},
   "outputs": [
    {
     "ename": "IndexError",
     "evalue": "arrays used as indices must be of integer (or boolean) type",
     "output_type": "error",
     "traceback": [
      "\u001b[0;31m---------------------------------------------------------------------------\u001b[0m",
      "\u001b[0;31mIndexError\u001b[0m                                Traceback (most recent call last)",
      "Cell \u001b[0;32mIn[35], line 30\u001b[0m\n\u001b[1;32m     23\u001b[0m model\u001b[39m.\u001b[39mminimize(\u001b[39msum\u001b[39m(\n\u001b[1;32m     24\u001b[0m         [\u001b[39mabs\u001b[39m(ideal_target \u001b[39m-\u001b[39m \u001b[39msum\u001b[39m(assignments[i, :])) \u001b[39mfor\u001b[39;00m i \u001b[39min\u001b[39;00m \u001b[39mrange\u001b[39m(num_engineers)]\n\u001b[1;32m     25\u001b[0m ))\n\u001b[1;32m     27\u001b[0m \u001b[39m# Minimize the distance between the engineer and the devices\u001b[39;00m\n\u001b[1;32m     28\u001b[0m model\u001b[39m.\u001b[39mminimize(\n\u001b[1;32m     29\u001b[0m         \u001b[39msum\u001b[39m( \u001b[39m# For each engineer\u001b[39;00m\n\u001b[0;32m---> 30\u001b[0m         distance_matrix[\u001b[39m0\u001b[39;49m, num_engineers:][assignments[\u001b[39m0\u001b[39;49m] \u001b[39m==\u001b[39;49m \u001b[39mTrue\u001b[39;49;00m]\n\u001b[1;32m     31\u001b[0m                 \u001b[39m#[sum(distance_matrix[i, num_engineers:][assignments[i, :] > 1]) for i in range(num_engineers)]\u001b[39;00m\n\u001b[1;32m     32\u001b[0m         )\n\u001b[1;32m     33\u001b[0m )\n\u001b[1;32m     36\u001b[0m \u001b[39mprint\u001b[39m(model\u001b[39m.\u001b[39msolve(), model\u001b[39m.\u001b[39mstatus())\n\u001b[1;32m     37\u001b[0m \u001b[39mprint\u001b[39m(assignments\u001b[39m.\u001b[39mvalue())\n",
      "\u001b[0;31mIndexError\u001b[0m: arrays used as indices must be of integer (or boolean) type"
     ]
    }
   ],
   "source": [
    "num_devices = 4\n",
    "num_engineers = 2\n",
    "distance_matrix = np.array([\n",
    "        [0, 100, 100, 100, 100, 300],\n",
    "        [100, 0, 100, 100, 100, 100],\n",
    "        [100, 100, 0, 100, 100, 100],\n",
    "        [100, 100, 100, 0, 100, 100],\n",
    "        [100, 100, 100, 100, 0, 100],\n",
    "        [100, 100, 100, 100, 100, 0]\n",
    "])\n",
    "\n",
    "ideal_target = int(num_devices/num_engineers)\n",
    "\n",
    "# Set to True if the engineer is assigned to the device\n",
    "assignments = boolvar(name=\"assignments\", shape=(num_engineers, num_devices))\n",
    "\n",
    "model = Model()\n",
    "\n",
    "# Add a constraint so that each device is assigned to exactly one engineer\n",
    "model += [sum(assignments[:, i]) == 1 for i in range(num_devices)]\n",
    "\n",
    "# Minimize the difference between the ideal target and the actual number of devices assigned to each engineer \n",
    "model.minimize(sum(\n",
    "        [abs(ideal_target - sum(assignments[i, :])) for i in range(num_engineers)]\n",
    "))\n",
    "\n",
    "# Minimize the distance between the engineer and the devices\n",
    "model.minimize(\n",
    "        sum( # For each engineer\n",
    "        distance_matrix[0, num_engineers:][assignments[0] == True]\n",
    "                #[sum(distance_matrix[i, num_engineers:][assignments[i, :] > 1]) for i in range(num_engineers)]\n",
    "        )\n",
    ")\n",
    "\n",
    "\n",
    "print(model.solve(), model.status())\n",
    "print(assignments.value())"
   ]
  },
  {
   "cell_type": "code",
   "execution_count": 14,
   "metadata": {},
   "outputs": [
    {
     "name": "stdout",
     "output_type": "stream",
     "text": [
      "[100 300]\n"
     ]
    }
   ],
   "source": [
    "engIndex = 0\n",
    "devices = np.array([0, 0, 1, 1])\n",
    "distance_matrix[engIndex,num_engineers:]\n",
    "\n",
    "# Keep only the distances where the device is 1\n",
    "distances = distance_matrix[engIndex,num_engineers:]\n",
    "print(distances[devices == 1])"
   ]
  },
  {
   "cell_type": "code",
   "execution_count": null,
   "metadata": {},
   "outputs": [
    {
     "data": {
      "text/plain": [
       "2"
      ]
     },
     "execution_count": 7,
     "metadata": {},
     "output_type": "execute_result"
    }
   ],
   "source": [
    "# results = assignments.value()\n",
    "# sum(abs(ideal_target - results.sum(axis=1)))\n",
    "test=[[0, 0, 1, 1, 1, 0], [1, 0, 0, 0, 0, 1], [0, 1, 0, 0, 0, 0]]\n",
    "np.sum(np.abs(ideal_target -  np.sum(test, axis=1)))"
   ]
  }
 ],
 "metadata": {
  "kernelspec": {
   "display_name": ".venv",
   "language": "python",
   "name": "python3"
  },
  "language_info": {
   "codemirror_mode": {
    "name": "ipython",
    "version": 3
   },
   "file_extension": ".py",
   "mimetype": "text/x-python",
   "name": "python",
   "nbconvert_exporter": "python",
   "pygments_lexer": "ipython3",
   "version": "3.8.5 (default, Jan 27 2021, 15:41:15) \n[GCC 9.3.0]"
  },
  "orig_nbformat": 4,
  "vscode": {
   "interpreter": {
    "hash": "3c50dff50d1791d42c4bd3aced91ca7399364b47c9dd0cd40dcdaf05bc8746a7"
   }
  }
 },
 "nbformat": 4,
 "nbformat_minor": 2
}
